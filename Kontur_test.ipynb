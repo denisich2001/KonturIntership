{
  "cells": [
    {
      "cell_type": "markdown",
      "metadata": {
        "id": "view-in-github",
        "colab_type": "text"
      },
      "source": [
        "<a href=\"https://colab.research.google.com/github/denisich2001/KonturIntership/blob/main/Kontur_test.ipynb\" target=\"_parent\"><img src=\"https://colab.research.google.com/assets/colab-badge.svg\" alt=\"Open In Colab\"/></a>"
      ]
    },
    {
      "cell_type": "markdown",
      "source": [
        "#Считываем и очищаем тестовые данные"
      ],
      "metadata": {
        "id": "tF8UfltdRGn1"
      }
    },
    {
      "cell_type": "code",
      "execution_count": null,
      "metadata": {
        "id": "SbPVLjO6xbt3"
      },
      "outputs": [],
      "source": [
        "import pandas as pd\n",
        "import numpy as np"
      ]
    },
    {
      "cell_type": "code",
      "execution_count": null,
      "metadata": {
        "colab": {
          "base_uri": "https://localhost:8080/",
          "height": 423
        },
        "id": "F66TdE2jI0g4",
        "outputId": "9c35f6e9-e442-4c8c-d421-032b5ff832ae"
      },
      "outputs": [
        {
          "output_type": "execute_result",
          "data": {
            "text/plain": [
              "                                                  title  is_fake\n",
              "0     Москвичу Владимиру Клутину пришёл счёт за вмеш...        1\n",
              "1     Агент Кокорина назвал езду по встречке житейск...        0\n",
              "2     Госдума рассмотрит возможность введения секрет...        1\n",
              "3     ФАС заблокировала поставку скоростных трамваев...        0\n",
              "4     Против Навального завели дело о недоносительст...        1\n",
              "...                                                 ...      ...\n",
              "5753  Эдди Чемберс получил сотрясение мозга в бою с ...        0\n",
              "5754  Правительство застроит Россию нефтепродуктопро...        0\n",
              "5755  «Мне стыдно перед дедом»: новый канцлер ФРГ об...        1\n",
              "5756   Туркмения в декабре начнет поставки газа в Китай        0\n",
              "5757  Бывший тренер Локомотива возглавил нальчикский...        0\n",
              "\n",
              "[5758 rows x 2 columns]"
            ],
            "text/html": [
              "\n",
              "  <div id=\"df-15373424-5107-4cba-bd60-acaedf9dd027\">\n",
              "    <div class=\"colab-df-container\">\n",
              "      <div>\n",
              "<style scoped>\n",
              "    .dataframe tbody tr th:only-of-type {\n",
              "        vertical-align: middle;\n",
              "    }\n",
              "\n",
              "    .dataframe tbody tr th {\n",
              "        vertical-align: top;\n",
              "    }\n",
              "\n",
              "    .dataframe thead th {\n",
              "        text-align: right;\n",
              "    }\n",
              "</style>\n",
              "<table border=\"1\" class=\"dataframe\">\n",
              "  <thead>\n",
              "    <tr style=\"text-align: right;\">\n",
              "      <th></th>\n",
              "      <th>title</th>\n",
              "      <th>is_fake</th>\n",
              "    </tr>\n",
              "  </thead>\n",
              "  <tbody>\n",
              "    <tr>\n",
              "      <th>0</th>\n",
              "      <td>Москвичу Владимиру Клутину пришёл счёт за вмеш...</td>\n",
              "      <td>1</td>\n",
              "    </tr>\n",
              "    <tr>\n",
              "      <th>1</th>\n",
              "      <td>Агент Кокорина назвал езду по встречке житейск...</td>\n",
              "      <td>0</td>\n",
              "    </tr>\n",
              "    <tr>\n",
              "      <th>2</th>\n",
              "      <td>Госдума рассмотрит возможность введения секрет...</td>\n",
              "      <td>1</td>\n",
              "    </tr>\n",
              "    <tr>\n",
              "      <th>3</th>\n",
              "      <td>ФАС заблокировала поставку скоростных трамваев...</td>\n",
              "      <td>0</td>\n",
              "    </tr>\n",
              "    <tr>\n",
              "      <th>4</th>\n",
              "      <td>Против Навального завели дело о недоносительст...</td>\n",
              "      <td>1</td>\n",
              "    </tr>\n",
              "    <tr>\n",
              "      <th>...</th>\n",
              "      <td>...</td>\n",
              "      <td>...</td>\n",
              "    </tr>\n",
              "    <tr>\n",
              "      <th>5753</th>\n",
              "      <td>Эдди Чемберс получил сотрясение мозга в бою с ...</td>\n",
              "      <td>0</td>\n",
              "    </tr>\n",
              "    <tr>\n",
              "      <th>5754</th>\n",
              "      <td>Правительство застроит Россию нефтепродуктопро...</td>\n",
              "      <td>0</td>\n",
              "    </tr>\n",
              "    <tr>\n",
              "      <th>5755</th>\n",
              "      <td>«Мне стыдно перед дедом»: новый канцлер ФРГ об...</td>\n",
              "      <td>1</td>\n",
              "    </tr>\n",
              "    <tr>\n",
              "      <th>5756</th>\n",
              "      <td>Туркмения в декабре начнет поставки газа в Китай</td>\n",
              "      <td>0</td>\n",
              "    </tr>\n",
              "    <tr>\n",
              "      <th>5757</th>\n",
              "      <td>Бывший тренер Локомотива возглавил нальчикский...</td>\n",
              "      <td>0</td>\n",
              "    </tr>\n",
              "  </tbody>\n",
              "</table>\n",
              "<p>5758 rows × 2 columns</p>\n",
              "</div>\n",
              "      <button class=\"colab-df-convert\" onclick=\"convertToInteractive('df-15373424-5107-4cba-bd60-acaedf9dd027')\"\n",
              "              title=\"Convert this dataframe to an interactive table.\"\n",
              "              style=\"display:none;\">\n",
              "        \n",
              "  <svg xmlns=\"http://www.w3.org/2000/svg\" height=\"24px\"viewBox=\"0 0 24 24\"\n",
              "       width=\"24px\">\n",
              "    <path d=\"M0 0h24v24H0V0z\" fill=\"none\"/>\n",
              "    <path d=\"M18.56 5.44l.94 2.06.94-2.06 2.06-.94-2.06-.94-.94-2.06-.94 2.06-2.06.94zm-11 1L8.5 8.5l.94-2.06 2.06-.94-2.06-.94L8.5 2.5l-.94 2.06-2.06.94zm10 10l.94 2.06.94-2.06 2.06-.94-2.06-.94-.94-2.06-.94 2.06-2.06.94z\"/><path d=\"M17.41 7.96l-1.37-1.37c-.4-.4-.92-.59-1.43-.59-.52 0-1.04.2-1.43.59L10.3 9.45l-7.72 7.72c-.78.78-.78 2.05 0 2.83L4 21.41c.39.39.9.59 1.41.59.51 0 1.02-.2 1.41-.59l7.78-7.78 2.81-2.81c.8-.78.8-2.07 0-2.86zM5.41 20L4 18.59l7.72-7.72 1.47 1.35L5.41 20z\"/>\n",
              "  </svg>\n",
              "      </button>\n",
              "      \n",
              "  <style>\n",
              "    .colab-df-container {\n",
              "      display:flex;\n",
              "      flex-wrap:wrap;\n",
              "      gap: 12px;\n",
              "    }\n",
              "\n",
              "    .colab-df-convert {\n",
              "      background-color: #E8F0FE;\n",
              "      border: none;\n",
              "      border-radius: 50%;\n",
              "      cursor: pointer;\n",
              "      display: none;\n",
              "      fill: #1967D2;\n",
              "      height: 32px;\n",
              "      padding: 0 0 0 0;\n",
              "      width: 32px;\n",
              "    }\n",
              "\n",
              "    .colab-df-convert:hover {\n",
              "      background-color: #E2EBFA;\n",
              "      box-shadow: 0px 1px 2px rgba(60, 64, 67, 0.3), 0px 1px 3px 1px rgba(60, 64, 67, 0.15);\n",
              "      fill: #174EA6;\n",
              "    }\n",
              "\n",
              "    [theme=dark] .colab-df-convert {\n",
              "      background-color: #3B4455;\n",
              "      fill: #D2E3FC;\n",
              "    }\n",
              "\n",
              "    [theme=dark] .colab-df-convert:hover {\n",
              "      background-color: #434B5C;\n",
              "      box-shadow: 0px 1px 3px 1px rgba(0, 0, 0, 0.15);\n",
              "      filter: drop-shadow(0px 1px 2px rgba(0, 0, 0, 0.3));\n",
              "      fill: #FFFFFF;\n",
              "    }\n",
              "  </style>\n",
              "\n",
              "      <script>\n",
              "        const buttonEl =\n",
              "          document.querySelector('#df-15373424-5107-4cba-bd60-acaedf9dd027 button.colab-df-convert');\n",
              "        buttonEl.style.display =\n",
              "          google.colab.kernel.accessAllowed ? 'block' : 'none';\n",
              "\n",
              "        async function convertToInteractive(key) {\n",
              "          const element = document.querySelector('#df-15373424-5107-4cba-bd60-acaedf9dd027');\n",
              "          const dataTable =\n",
              "            await google.colab.kernel.invokeFunction('convertToInteractive',\n",
              "                                                     [key], {});\n",
              "          if (!dataTable) return;\n",
              "\n",
              "          const docLinkHtml = 'Like what you see? Visit the ' +\n",
              "            '<a target=\"_blank\" href=https://colab.research.google.com/notebooks/data_table.ipynb>data table notebook</a>'\n",
              "            + ' to learn more about interactive tables.';\n",
              "          element.innerHTML = '';\n",
              "          dataTable['output_type'] = 'display_data';\n",
              "          await google.colab.output.renderOutput(dataTable, element);\n",
              "          const docLink = document.createElement('div');\n",
              "          docLink.innerHTML = docLinkHtml;\n",
              "          element.appendChild(docLink);\n",
              "        }\n",
              "      </script>\n",
              "    </div>\n",
              "  </div>\n",
              "  "
            ]
          },
          "metadata": {},
          "execution_count": 184
        }
      ],
      "source": [
        "trainData = pd.read_table(\"train.tsv\")\n",
        "trainData"
      ]
    },
    {
      "cell_type": "code",
      "execution_count": null,
      "metadata": {
        "colab": {
          "base_uri": "https://localhost:8080/"
        },
        "id": "GQ6Zn9o7La-q",
        "outputId": "583d2ee5-1556-4efa-9734-a9112a257970"
      },
      "outputs": [
        {
          "output_type": "stream",
          "name": "stdout",
          "text": [
            "Counter({1: 2879, 0: 2879})\n"
          ]
        }
      ],
      "source": [
        "from collections import Counter\n",
        "print(Counter(trainData['is_fake'].values))"
      ]
    },
    {
      "cell_type": "code",
      "execution_count": null,
      "metadata": {
        "colab": {
          "base_uri": "https://localhost:8080/"
        },
        "id": "c9i1GQmXaiV5",
        "outputId": "dca67b36-b54b-44f4-e1ec-676620855dc1"
      },
      "outputs": [
        {
          "output_type": "execute_result",
          "data": {
            "text/plain": [
              "title      0\n",
              "is_fake    0\n",
              "dtype: int64"
            ]
          },
          "metadata": {},
          "execution_count": 186
        }
      ],
      "source": [
        "trainData.isnull().sum()"
      ]
    },
    {
      "cell_type": "markdown",
      "metadata": {
        "id": "G-obLDGWGhwa"
      },
      "source": [
        "Отделяем данные от значений"
      ]
    },
    {
      "cell_type": "code",
      "execution_count": null,
      "metadata": {
        "id": "VP5VPJG4GWUG"
      },
      "outputs": [],
      "source": [
        "trainDataX = trainData.drop(columns = 'is_fake', axis = 1)\n",
        "trainDataX = trainDataX['title'].values\n",
        "\n",
        "trainDataY = trainData['is_fake']"
      ]
    },
    {
      "cell_type": "markdown",
      "metadata": {
        "id": "RFMztnxFEFO1"
      },
      "source": [
        "#Очищаем и предобрабатываем данные"
      ]
    },
    {
      "cell_type": "code",
      "source": [
        "!pip install pymorphy2\n",
        "nltk.download(\"russian\")"
      ],
      "metadata": {
        "colab": {
          "base_uri": "https://localhost:8080/"
        },
        "id": "p6nB5sUKHWny",
        "outputId": "769c8ec2-27de-4c95-e8f3-03959340d606"
      },
      "execution_count": null,
      "outputs": [
        {
          "output_type": "stream",
          "name": "stdout",
          "text": [
            "Requirement already satisfied: pymorphy2 in /usr/local/lib/python3.7/dist-packages (0.9.1)\n",
            "Requirement already satisfied: docopt>=0.6 in /usr/local/lib/python3.7/dist-packages (from pymorphy2) (0.6.2)\n",
            "Requirement already satisfied: pymorphy2-dicts-ru<3.0,>=2.4 in /usr/local/lib/python3.7/dist-packages (from pymorphy2) (2.4.417127.4579844)\n",
            "Requirement already satisfied: dawg-python>=0.7.1 in /usr/local/lib/python3.7/dist-packages (from pymorphy2) (0.7.2)\n",
            "[nltk_data] Error loading russian: Package 'russian' not found in\n",
            "[nltk_data]     index\n"
          ]
        },
        {
          "output_type": "execute_result",
          "data": {
            "text/plain": [
              "False"
            ]
          },
          "metadata": {},
          "execution_count": 188
        }
      ]
    },
    {
      "cell_type": "code",
      "execution_count": null,
      "metadata": {
        "id": "DQGN2NzyH05n"
      },
      "outputs": [],
      "source": [
        "import nltk\n",
        "from nltk.tokenize import word_tokenize\n",
        "import regex as re\n",
        "from nltk.corpus import stopwords\n",
        "from pymorphy2 import MorphAnalyzer\n",
        "\n",
        "morph = MorphAnalyzer()"
      ]
    },
    {
      "cell_type": "code",
      "source": [
        "nltk.download('stopwords')"
      ],
      "metadata": {
        "colab": {
          "base_uri": "https://localhost:8080/"
        },
        "id": "tnFAfGTbMhKe",
        "outputId": "c6f8608b-489f-4d3e-9409-54b969e5886e"
      },
      "execution_count": null,
      "outputs": [
        {
          "output_type": "stream",
          "name": "stdout",
          "text": [
            "[nltk_data] Downloading package stopwords to /root/nltk_data...\n",
            "[nltk_data]   Package stopwords is already up-to-date!\n"
          ]
        },
        {
          "output_type": "execute_result",
          "data": {
            "text/plain": [
              "True"
            ]
          },
          "metadata": {},
          "execution_count": 190
        }
      ]
    },
    {
      "cell_type": "markdown",
      "metadata": {
        "id": "nUocyV_eQBr0"
      },
      "source": [
        "Разбиваем на токены, удаляем стоп-слова и лемматизируем"
      ]
    },
    {
      "cell_type": "code",
      "execution_count": null,
      "metadata": {
        "id": "xSw9eu2VEEy-"
      },
      "outputs": [],
      "source": [
        "def preprocessing(data):\n",
        "  #Токенизируем, удаляем стоп-слова\n",
        "  wordsList = re.sub('[^а-яА-ЯёЁ]',' ',data)\n",
        "  wordsList = wordsList.split()\n",
        "  wordsList = [word.lower() for word in wordsList if not word in stopwords.words('russian')]\n",
        "  \n",
        "  #Лемматизируем\n",
        "  wordsList = [morph.normal_forms(word)[0] for word in wordsList]\n",
        "\n",
        "  wordsList = ' '.join(wordsList)\n",
        "  return wordsList\n",
        "\n",
        "#Предобрабатываем тренировочные данные\n",
        "for index, line in enumerate(trainDataX):\n",
        "  trainDataX[index] = preprocessing(line)\n"
      ]
    },
    {
      "cell_type": "code",
      "execution_count": null,
      "metadata": {
        "colab": {
          "base_uri": "https://localhost:8080/"
        },
        "id": "sM-IeRPkT486",
        "outputId": "d7fa8a14-690f-4c8b-d8e7-1a7cd8df7334"
      },
      "outputs": [
        {
          "output_type": "execute_result",
          "data": {
            "text/plain": [
              "array(['москвич владимир клутина прийти счёт вмешательство американский выборы',\n",
              "       'агент кокорин назвать езда встречка житейский история',\n",
              "       'госдума рассмотреть возможность введение секретный стать уголовный кодекс',\n",
              "       ...,\n",
              "       'я стыдно дед новый канцлер фрг обратиться первый речь бундестаг',\n",
              "       'туркмения декабрь начать поставка газ китай',\n",
              "       'бывший тренер локомотив возглавить нальчикский спартак'],\n",
              "      dtype=object)"
            ]
          },
          "metadata": {},
          "execution_count": 192
        }
      ],
      "source": [
        "trainDataX"
      ]
    },
    {
      "cell_type": "markdown",
      "metadata": {
        "id": "FmU8BrWkPvFC"
      },
      "source": [
        "**Векторизуем данные**"
      ]
    },
    {
      "cell_type": "code",
      "execution_count": null,
      "metadata": {
        "id": "pOlus0q5PYhM"
      },
      "outputs": [],
      "source": [
        "from sklearn.feature_extraction.text import CountVectorizer\n",
        "\n",
        "vectorizer = CountVectorizer(min_df=2)\n",
        "vectorizer.fit(trainDataX)\n",
        "\n",
        "#векторизуем тренировочные данные\n",
        "trainDataX1 = vectorizer.transform(trainDataX)"
      ]
    },
    {
      "cell_type": "markdown",
      "source": [
        "#Обучаем модели на обработанных данных и измеряем их точность"
      ],
      "metadata": {
        "id": "G3vb9i8oPCOT"
      }
    },
    {
      "cell_type": "code",
      "execution_count": null,
      "metadata": {
        "id": "d0_I8-0sghDN"
      },
      "outputs": [],
      "source": [
        "from sklearn.model_selection import train_test_split\n",
        "from sklearn.metrics import accuracy_score\n",
        "from sklearn.metrics import f1_score\n",
        "\n",
        "trainX, testX, trainY, testY = train_test_split(trainDataX1, trainDataY, stratify = trainDataY, random_state = 2, test_size = 0.25)"
      ]
    },
    {
      "cell_type": "code",
      "execution_count": null,
      "metadata": {
        "id": "YqZTHn0NgjvS",
        "colab": {
          "base_uri": "https://localhost:8080/"
        },
        "outputId": "3b5759b5-95eb-4d29-e078-7080692e43f3"
      },
      "outputs": [
        {
          "output_type": "execute_result",
          "data": {
            "text/plain": [
              "0.8367952522255193"
            ]
          },
          "metadata": {},
          "execution_count": 195
        }
      ],
      "source": [
        "from sklearn.linear_model import LogisticRegression\n",
        "\n",
        "model1 = LogisticRegression()\n",
        "model1 .fit(trainX, trainY)\n",
        "\n",
        "predY1 = model1.predict(testX)\n",
        "\n",
        "modelAccuracy = f1_score(predY1, testY)\n",
        "modelAccuracy"
      ]
    },
    {
      "cell_type": "code",
      "source": [
        "from sklearn.linear_model import PassiveAggressiveClassifier\n",
        "model2 = PassiveAggressiveClassifier(max_iter=1000)\n",
        "\n",
        "model2.fit(trainX, trainY)\n",
        "predY2 = model2.predict(testX)\n",
        "\n",
        "modelAccuracy = f1_score(predY2, testY)\n",
        "modelAccuracy"
      ],
      "metadata": {
        "colab": {
          "base_uri": "https://localhost:8080/"
        },
        "id": "UR4qE89GLYhb",
        "outputId": "76bc9657-3512-4d27-8b22-87b201f0b95e"
      },
      "execution_count": null,
      "outputs": [
        {
          "output_type": "execute_result",
          "data": {
            "text/plain": [
              "0.8115107913669066"
            ]
          },
          "metadata": {},
          "execution_count": 196
        }
      ]
    },
    {
      "cell_type": "code",
      "source": [
        "from sklearn.naive_bayes import MultinomialNB\n",
        "\n",
        "model3 = MultinomialNB()\n",
        "model3.fit(trainX, trainY)\n",
        "predY3= model3.predict(testX)\n",
        "\n",
        "modelAccuracy = f1_score(predY3, testY)\n",
        "modelAccuracy"
      ],
      "metadata": {
        "colab": {
          "base_uri": "https://localhost:8080/"
        },
        "id": "tenShU1vL7Yz",
        "outputId": "682964f0-4c5a-4d98-cffb-467107f53a39"
      },
      "execution_count": null,
      "outputs": [
        {
          "output_type": "execute_result",
          "data": {
            "text/plain": [
              "0.8472222222222222"
            ]
          },
          "metadata": {},
          "execution_count": 197
        }
      ]
    },
    {
      "cell_type": "code",
      "source": [
        "from xgboost import XGBClassifier\n",
        "\n",
        "model4 = XGBClassifier()\n",
        "model4.fit(trainX, trainY)\n",
        "predY4 = model4.predict(testX)\n",
        "\n",
        "modelAccuracy = f1_score(predY4, testY)\n",
        "modelAccuracy"
      ],
      "metadata": {
        "colab": {
          "base_uri": "https://localhost:8080/"
        },
        "id": "C586drfzMsmL",
        "outputId": "4ab74138-fffd-415f-8458-0924fb6ae25d"
      },
      "execution_count": null,
      "outputs": [
        {
          "output_type": "execute_result",
          "data": {
            "text/plain": [
              "0.5848708487084872"
            ]
          },
          "metadata": {},
          "execution_count": 198
        }
      ]
    },
    {
      "cell_type": "code",
      "source": [
        "from sklearn.ensemble import RandomForestClassifier\n",
        "\n",
        "model5 = RandomForestClassifier(n_estimators=23)\n",
        "model5.fit(trainX, trainY)\n",
        "predY5 = model5.predict(testX)\n",
        "\n",
        "modelAccuracy = f1_score(predY5, testY)\n",
        "modelAccuracy"
      ],
      "metadata": {
        "colab": {
          "base_uri": "https://localhost:8080/"
        },
        "id": "pIuMB0xsM1Bt",
        "outputId": "8b2588f1-3dc8-4f1d-cbdb-f524d4028b29"
      },
      "execution_count": null,
      "outputs": [
        {
          "output_type": "execute_result",
          "data": {
            "text/plain": [
              "0.7607655502392345"
            ]
          },
          "metadata": {},
          "execution_count": 199
        }
      ]
    },
    {
      "cell_type": "markdown",
      "source": [
        "**Заключение**: проверив 5 разных моделей, можно сделать вывод, что наиболее точным был Байесовский классификатор. Его и используем для классификации тестовых данных"
      ],
      "metadata": {
        "id": "yx_M-MCpOd8U"
      }
    },
    {
      "cell_type": "markdown",
      "source": [
        "#Размечаем тестовые данные"
      ],
      "metadata": {
        "id": "x1JfClT9Rq-M"
      }
    },
    {
      "cell_type": "code",
      "source": [
        "testData = pd.read_table(\"predictions.tsv\")\n",
        "testData = testData['title'].values"
      ],
      "metadata": {
        "id": "URu1LjoMQ44k"
      },
      "execution_count": null,
      "outputs": []
    },
    {
      "cell_type": "code",
      "source": [
        "#Предобрабатываем тестовые данные\n",
        "for index, line in enumerate(testData):\n",
        "  testData[index] = preprocessing(line)\n",
        "\n",
        "testData[:10]"
      ],
      "metadata": {
        "colab": {
          "base_uri": "https://localhost:8080/"
        },
        "id": "dTk0hRZ_P9hU",
        "outputId": "9444172e-2733-4627-e835-1e081082b603"
      },
      "execution_count": null,
      "outputs": [
        {
          "output_type": "execute_result",
          "data": {
            "text/plain": [
              "array(['роскомнадзор представить реестр сочетание цвет нежелательный россия',\n",
              "       'ночью минский президентский гора беларашмор пик демократия внезапно появиться лицо николай лукашенко',\n",
              "       'бывший спичрайтер юрий лоза рассказать трудность работа сергей шойгу',\n",
              "       'сельский церковь собрать рекордно низкий количество пожертвование сгореть тройной попадание молния',\n",
              "       'акция рухнуть объявление перезапуск',\n",
              "       'курс доллар вырасти исторический максимум',\n",
              "       'опек назвать оптимальный уровень цена нефть',\n",
              "       'российский авиакомпания открыть рейс тбилиси урал',\n",
              "       'швейцарский горнолыжница расстрелять дом родитель',\n",
              "       'учредить театральный премия имя гарольд пинтер'], dtype=object)"
            ]
          },
          "metadata": {},
          "execution_count": 207
        }
      ]
    },
    {
      "cell_type": "code",
      "source": [
        "#векторизуем тестовые данные\n",
        "testData1 = vectorizer.transform(testData)"
      ],
      "metadata": {
        "id": "3KbZfJ6zTQ1c"
      },
      "execution_count": null,
      "outputs": []
    },
    {
      "cell_type": "code",
      "source": [
        "testDataPredictions = model3.predict(testData1)\n",
        "#testDataPredictions"
      ],
      "metadata": {
        "id": "Qhpi1f9ZS8cE"
      },
      "execution_count": null,
      "outputs": []
    },
    {
      "cell_type": "code",
      "source": [
        "result = pd.read_table(\"predictions.tsv\")\n",
        "result['is_fake'] = testDataPredictions\n",
        "result[:10]"
      ],
      "metadata": {
        "colab": {
          "base_uri": "https://localhost:8080/",
          "height": 363
        },
        "id": "pjgfUSuDTuaF",
        "outputId": "ab782ed4-6a28-41b5-d186-744d0c569473"
      },
      "execution_count": null,
      "outputs": [
        {
          "output_type": "execute_result",
          "data": {
            "text/plain": [
              "                                               title  is_fake\n",
              "0  Роскомнадзор представил реестр сочетаний цвето...        1\n",
              "1  Ночью под Минском на президентской горе Белара...        1\n",
              "2  Бывший спичрайтер Юрия Лозы рассказал о трудно...        1\n",
              "3  Сельская церковь, собравшая рекордно низкое ко...        1\n",
              "4  Акции Google рухнули после объявления о переза...        0\n",
              "5      Курс доллара вырос до исторического максимума        0\n",
              "6      ОПЕК назвала оптимальный уровень цен на нефть        0\n",
              "7  Российская авиакомпания откроет рейсы в Тбилис...        0\n",
              "8  Швейцарская горнолыжница расстреляна в доме ро...        1\n",
              "9  Учреждена театральная премия имени Гарольда Пи...        0"
            ],
            "text/html": [
              "\n",
              "  <div id=\"df-c04b75c3-079c-4948-bde6-6a86d5f39a06\">\n",
              "    <div class=\"colab-df-container\">\n",
              "      <div>\n",
              "<style scoped>\n",
              "    .dataframe tbody tr th:only-of-type {\n",
              "        vertical-align: middle;\n",
              "    }\n",
              "\n",
              "    .dataframe tbody tr th {\n",
              "        vertical-align: top;\n",
              "    }\n",
              "\n",
              "    .dataframe thead th {\n",
              "        text-align: right;\n",
              "    }\n",
              "</style>\n",
              "<table border=\"1\" class=\"dataframe\">\n",
              "  <thead>\n",
              "    <tr style=\"text-align: right;\">\n",
              "      <th></th>\n",
              "      <th>title</th>\n",
              "      <th>is_fake</th>\n",
              "    </tr>\n",
              "  </thead>\n",
              "  <tbody>\n",
              "    <tr>\n",
              "      <th>0</th>\n",
              "      <td>Роскомнадзор представил реестр сочетаний цвето...</td>\n",
              "      <td>1</td>\n",
              "    </tr>\n",
              "    <tr>\n",
              "      <th>1</th>\n",
              "      <td>Ночью под Минском на президентской горе Белара...</td>\n",
              "      <td>1</td>\n",
              "    </tr>\n",
              "    <tr>\n",
              "      <th>2</th>\n",
              "      <td>Бывший спичрайтер Юрия Лозы рассказал о трудно...</td>\n",
              "      <td>1</td>\n",
              "    </tr>\n",
              "    <tr>\n",
              "      <th>3</th>\n",
              "      <td>Сельская церковь, собравшая рекордно низкое ко...</td>\n",
              "      <td>1</td>\n",
              "    </tr>\n",
              "    <tr>\n",
              "      <th>4</th>\n",
              "      <td>Акции Google рухнули после объявления о переза...</td>\n",
              "      <td>0</td>\n",
              "    </tr>\n",
              "    <tr>\n",
              "      <th>5</th>\n",
              "      <td>Курс доллара вырос до исторического максимума</td>\n",
              "      <td>0</td>\n",
              "    </tr>\n",
              "    <tr>\n",
              "      <th>6</th>\n",
              "      <td>ОПЕК назвала оптимальный уровень цен на нефть</td>\n",
              "      <td>0</td>\n",
              "    </tr>\n",
              "    <tr>\n",
              "      <th>7</th>\n",
              "      <td>Российская авиакомпания откроет рейсы в Тбилис...</td>\n",
              "      <td>0</td>\n",
              "    </tr>\n",
              "    <tr>\n",
              "      <th>8</th>\n",
              "      <td>Швейцарская горнолыжница расстреляна в доме ро...</td>\n",
              "      <td>1</td>\n",
              "    </tr>\n",
              "    <tr>\n",
              "      <th>9</th>\n",
              "      <td>Учреждена театральная премия имени Гарольда Пи...</td>\n",
              "      <td>0</td>\n",
              "    </tr>\n",
              "  </tbody>\n",
              "</table>\n",
              "</div>\n",
              "      <button class=\"colab-df-convert\" onclick=\"convertToInteractive('df-c04b75c3-079c-4948-bde6-6a86d5f39a06')\"\n",
              "              title=\"Convert this dataframe to an interactive table.\"\n",
              "              style=\"display:none;\">\n",
              "        \n",
              "  <svg xmlns=\"http://www.w3.org/2000/svg\" height=\"24px\"viewBox=\"0 0 24 24\"\n",
              "       width=\"24px\">\n",
              "    <path d=\"M0 0h24v24H0V0z\" fill=\"none\"/>\n",
              "    <path d=\"M18.56 5.44l.94 2.06.94-2.06 2.06-.94-2.06-.94-.94-2.06-.94 2.06-2.06.94zm-11 1L8.5 8.5l.94-2.06 2.06-.94-2.06-.94L8.5 2.5l-.94 2.06-2.06.94zm10 10l.94 2.06.94-2.06 2.06-.94-2.06-.94-.94-2.06-.94 2.06-2.06.94z\"/><path d=\"M17.41 7.96l-1.37-1.37c-.4-.4-.92-.59-1.43-.59-.52 0-1.04.2-1.43.59L10.3 9.45l-7.72 7.72c-.78.78-.78 2.05 0 2.83L4 21.41c.39.39.9.59 1.41.59.51 0 1.02-.2 1.41-.59l7.78-7.78 2.81-2.81c.8-.78.8-2.07 0-2.86zM5.41 20L4 18.59l7.72-7.72 1.47 1.35L5.41 20z\"/>\n",
              "  </svg>\n",
              "      </button>\n",
              "      \n",
              "  <style>\n",
              "    .colab-df-container {\n",
              "      display:flex;\n",
              "      flex-wrap:wrap;\n",
              "      gap: 12px;\n",
              "    }\n",
              "\n",
              "    .colab-df-convert {\n",
              "      background-color: #E8F0FE;\n",
              "      border: none;\n",
              "      border-radius: 50%;\n",
              "      cursor: pointer;\n",
              "      display: none;\n",
              "      fill: #1967D2;\n",
              "      height: 32px;\n",
              "      padding: 0 0 0 0;\n",
              "      width: 32px;\n",
              "    }\n",
              "\n",
              "    .colab-df-convert:hover {\n",
              "      background-color: #E2EBFA;\n",
              "      box-shadow: 0px 1px 2px rgba(60, 64, 67, 0.3), 0px 1px 3px 1px rgba(60, 64, 67, 0.15);\n",
              "      fill: #174EA6;\n",
              "    }\n",
              "\n",
              "    [theme=dark] .colab-df-convert {\n",
              "      background-color: #3B4455;\n",
              "      fill: #D2E3FC;\n",
              "    }\n",
              "\n",
              "    [theme=dark] .colab-df-convert:hover {\n",
              "      background-color: #434B5C;\n",
              "      box-shadow: 0px 1px 3px 1px rgba(0, 0, 0, 0.15);\n",
              "      filter: drop-shadow(0px 1px 2px rgba(0, 0, 0, 0.3));\n",
              "      fill: #FFFFFF;\n",
              "    }\n",
              "  </style>\n",
              "\n",
              "      <script>\n",
              "        const buttonEl =\n",
              "          document.querySelector('#df-c04b75c3-079c-4948-bde6-6a86d5f39a06 button.colab-df-convert');\n",
              "        buttonEl.style.display =\n",
              "          google.colab.kernel.accessAllowed ? 'block' : 'none';\n",
              "\n",
              "        async function convertToInteractive(key) {\n",
              "          const element = document.querySelector('#df-c04b75c3-079c-4948-bde6-6a86d5f39a06');\n",
              "          const dataTable =\n",
              "            await google.colab.kernel.invokeFunction('convertToInteractive',\n",
              "                                                     [key], {});\n",
              "          if (!dataTable) return;\n",
              "\n",
              "          const docLinkHtml = 'Like what you see? Visit the ' +\n",
              "            '<a target=\"_blank\" href=https://colab.research.google.com/notebooks/data_table.ipynb>data table notebook</a>'\n",
              "            + ' to learn more about interactive tables.';\n",
              "          element.innerHTML = '';\n",
              "          dataTable['output_type'] = 'display_data';\n",
              "          await google.colab.output.renderOutput(dataTable, element);\n",
              "          const docLink = document.createElement('div');\n",
              "          docLink.innerHTML = docLinkHtml;\n",
              "          element.appendChild(docLink);\n",
              "        }\n",
              "      </script>\n",
              "    </div>\n",
              "  </div>\n",
              "  "
            ]
          },
          "metadata": {},
          "execution_count": 216
        }
      ]
    },
    {
      "cell_type": "code",
      "source": [
        "result.to_csv('predictions.tsv', sep=\"\\t\", index=False)"
      ],
      "metadata": {
        "id": "B-rJF7zTVXjE"
      },
      "execution_count": null,
      "outputs": []
    }
  ],
  "metadata": {
    "colab": {
      "name": "Kontur_test.ipynb",
      "provenance": [],
      "include_colab_link": true
    },
    "kernelspec": {
      "display_name": "Python 3",
      "language": "python",
      "name": "python3"
    },
    "language_info": {
      "codemirror_mode": {
        "name": "ipython",
        "version": 3
      },
      "file_extension": ".py",
      "mimetype": "text/x-python",
      "name": "python",
      "nbconvert_exporter": "python",
      "pygments_lexer": "ipython3",
      "version": "3.8.8"
    }
  },
  "nbformat": 4,
  "nbformat_minor": 0
}